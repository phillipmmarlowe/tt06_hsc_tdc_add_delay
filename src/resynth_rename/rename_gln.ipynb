{
 "cells": [
  {
   "cell_type": "code",
   "execution_count": 1,
   "id": "69f5612b-63cd-4eba-844a-3875eb4d0838",
   "metadata": {},
   "outputs": [],
   "source": [
    "import os\n",
    "from subprocess import call\n",
    "from glob import glob\n",
    "import shutil"
   ]
  },
  {
   "cell_type": "code",
   "execution_count": 3,
   "id": "da791b70-29b3-47e7-aad0-b4c9ee55b8a6",
   "metadata": {},
   "outputs": [],
   "source": [
    "# Cells we want to copy as custom macros\n",
    "snip_cells = [\"sky130_fd_sc_hd__and2_1\", \"sky130_fd_sc_hd__fa_1\", \"sky130_fd_sc_hd__edfxtp_1\"]\n",
    "std_cell_prefix = \"tt_export_\"\n",
    "\n",
    "# Location of liberty files\n",
    "PDK_ROOT = os.environ.get('PDK_ROOT')\n",
    "TECH=\"sky130_fd_sc_hd\"\n",
    "lib_regex = f\"{PDK_ROOT}/sky130A/libs.ref/sky130_fd_sc_hd/lib/*.lib\" \n",
    "lib_files = glob(lib_regex)"
   ]
  },
  {
   "cell_type": "code",
   "execution_count": 8,
   "id": "b100eba6-9754-4c51-b53c-27c2aa636d16",
   "metadata": {},
   "outputs": [
    {
     "name": "stdout",
     "output_type": "stream",
     "text": [
      "[sky130_fd_sc_hd__and2_1, sky130_fd_sc_hd__fa_1, sky130_fd_sc_hd__edfxtp_1]\n",
      "Docker running command:\n",
      "docker run -v /opt/tt/openlane:/openLANE_flow -v /opt/tt/pdk:/opt/tt/pdk -v /mada/users/tsheaves/Desktop/tt06_hsc_tdc/src/std_cell_macros:/project -v /mada/users/tsheaves/Desktop/tt06_hsc_tdc/src/std_cell_macros/gds:/project/gds -e PDK_ROOT=/opt/tt/pdk -u 7547:1211 efabless/openlane klayout -b -r /project/klayout_script.rb -rd input=/opt/tt/pdk/sky130A/libs.ref/sky130_fd_sc_hd/gds/sky130_fd_sc_hd.gds -rd output_dir=/project/gds/ -l /opt/tt/pdk/sky130A/libs.tech/klayout/tech/sky130A.lyp -nn /opt/tt/pdk/sky130A/libs.tech/klayout/tech/sky130A.lyt\n"
     ]
    }
   ],
   "source": [
    "# Build a Klayout script that reads in a GDS, removes non-target cells and prefixes target cells\n",
    "\n",
    "# Get EVs\n",
    "OPENLANE_ROOT=os.getenv('OPENLANE_ROOT')\n",
    "PDK_ROOT=os.getenv('PDK_ROOT')\n",
    "USER=os.getenv('USER')\n",
    "UID=os.geteuid()\n",
    "GID=os.getegid()\n",
    "CWD=os.getcwd()\n",
    "LIB_PDK=\"sky130A/libs.ref\"\n",
    "TECH=\"sky130_fd_sc_hd\"\n",
    "# Tech path\n",
    "TECH_PATH=f\"{PDK_ROOT}/{LIB_PDK}/{TECH}\"\n",
    "\n",
    "# Construct docker klayout command\n",
    "klayout_cmd_run=[]\n",
    "klayout_cmd_run.append('docker')\n",
    "klayout_cmd_run.append('run')\n",
    "klayout_cmd_run.append(f'-v {OPENLANE_ROOT}:/openLANE_flow')\n",
    "klayout_cmd_run.append(f'-v {PDK_ROOT}:{PDK_ROOT}')\n",
    "klayout_cmd_run.append(f'-v {CWD}:/project') \n",
    "klayout_cmd_run.append(f'-v {CWD}/gds:/project/gds') \n",
    "klayout_cmd_run.append(f'-e PDK_ROOT={PDK_ROOT}')\n",
    "klayout_cmd_run.append(f'-u {UID}:{GID}')\n",
    "klayout_cmd_run.append(f'efabless/openlane')\n",
    "\n",
    "kl_cmd=f'klayout -b -r /project/{kl_script_name} -rd input={f_gds} -rd output_dir=/project/gds/ -l {PDK_ROOT}/sky130A/libs.tech/klayout/tech/sky130A.lyp -nn {PDK_ROOT}/sky130A/libs.tech/klayout/tech/sky130A.lyt'\n",
    "with open(\"./docker_output.log\", \"w\") as output:\n",
    "    call(\" \".join(klayout_cmd_run + [kl_cmd]), shell=True, stdout=output, stderr=output)\n",
    "print(\"Docker running command:\\n\" + \" \".join(klayout_cmd_run + [kl_cmd]))\n",
    "\n",
    "# Command to check GDS afterward:\n",
    "# docker run -it -v $OPENLANE_ROOT:/openLANE_flow -v $PDK_ROOT:$PDK_ROOT -v $PWD/gds:/project -e PDK_ROOT=$PDK_ROOT -v /tmp/.X11-unix:/tmp/.X11-unix -e DISPLAY=$DISPLAY -e QT_GRAPHICSSYSTEM=\"native\" -u $(id -u $USER):$(id -g $USER) efabless/openlane klayout -s /project/tt_export_sky130_fd_sc_hd.gds -l $PDK_ROOT/sky130A/libs.tech/klayout/tech/sky130A.lyp\n"
   ]
  },
  {
   "cell_type": "code",
   "execution_count": null,
   "id": "6e049799-15b2-4a2b-9f8c-f812ca5bcc87",
   "metadata": {},
   "outputs": [],
   "source": []
  }
 ],
 "metadata": {
  "kernelspec": {
   "display_name": "Python 3 (ipykernel)",
   "language": "python",
   "name": "python3"
  },
  "language_info": {
   "codemirror_mode": {
    "name": "ipython",
    "version": 3
   },
   "file_extension": ".py",
   "mimetype": "text/x-python",
   "name": "python",
   "nbconvert_exporter": "python",
   "pygments_lexer": "ipython3",
   "version": "3.10.12"
  }
 },
 "nbformat": 4,
 "nbformat_minor": 5
}
