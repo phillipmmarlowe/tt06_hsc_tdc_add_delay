{
 "cells": [
  {
   "cell_type": "code",
   "execution_count": 28,
   "id": "a7ce5b9e-e591-4424-812c-c8e94983dbfd",
   "metadata": {},
   "outputs": [],
   "source": [
    "class StdCellInstance:\n",
    "    def __init__(self, inst_name=\"\", loc=(0,0), orient=\"N\"):\n",
    "        self.inst_name =inst_name\n",
    "        self.inst_loc_x = loc[0]\n",
    "        self.inst_loc_y = loc[1]\n",
    "        self.orient = orient\n",
    "    \n",
    "    def get_place_str(self):\n",
    "        return(f\"{self.inst_name} {self.inst_loc_x} {self.inst_loc_y} {self.orient}\\n\")\n",
    "    \n",
    "def gen_macro_cfg(instances=[], fh=\"macro_placement.cfg\"):\n",
    "    with open(fh, \"w\") as f:    \n",
    "        for inst in instances:\n",
    "            f.write(inst.get_place_str())"
   ]
  },
  {
   "cell_type": "code",
   "execution_count": 32,
   "id": "3e493145-ee33-472b-b50b-2fb4c1a588cc",
   "metadata": {},
   "outputs": [],
   "source": [
    "# Where the DL starts (offset from bottom if using down=1)   \n",
    "dl_loc_init = (44.16, 204.0)\n",
    "tdc_len = 64\n",
    "up = False\n",
    "\n",
    "# Geometry specs    \n",
    "grid_space_x = 0.460\n",
    "std_cell_height = 2.720\n",
    "\n",
    "# TT double tile bounds\n",
    "max_x=155.0\n",
    "max_y=220.0\n",
    "min_x=4.6\n",
    "min_y=10.88\n",
    "\n",
    "# Width of cells in delay line\n",
    "cell_width_grid_dle=16            # Currently using sky130_fd_sc_hd__fa_1\n",
    "cell_width_grid_capt_reg=24       # Currently using sky130_fd_sc_hd__edfxtp_1\n",
    "cell_width_um_dle=grid_space_x*cell_width_grid_dle\n",
    "cell_width_um_capt_reg=grid_space_x*cell_width_grid_capt_reg\n",
    "\n",
    "# Create StdCell instances w/ placement attributes\n",
    "dl_loc = dl_loc_init\n",
    "insts=[]\n",
    "cell_orient = \"N\"\n",
    "mult = 1\n",
    "\n",
    "# DL zig-zags vertically if we run out of space\n",
    "for i in range(tdc_len):\n",
    "    # Delay line element  \n",
    "    insts.append(StdCellInstance(f\"tdc_inst.dl_inst.dl_genblk.dl.rca_genblk\\\\[{i}\\\\].FA\", (dl_loc[0], dl_loc[1]), cell_orient))\n",
    "    # Register\n",
    "    insts.append(StdCellInstance(f\"tdc_inst.dl_capt.capt_genblk\\\\[{i}\\\\].DFE\", (round(dl_loc[0]+grid_space_x*4+cell_width_um_dle, 5), dl_loc[1]), cell_orient))\n",
    "    if(cell_orient == \"N\"):\n",
    "        cell_orient = \"FS\"\n",
    "    else:\n",
    "        cell_orient = \"N\"\n",
    "    if(up):\n",
    "        dl_loc_y=dl_loc[1]+mult*std_cell_height\n",
    "    else:\n",
    "        dl_loc_y=dl_loc[1]-mult*std_cell_height\n",
    "    dl_loc_x = dl_loc[0]\n",
    "    # Check boundary\n",
    "    if(dl_loc_y > max_y or dl_loc_y < min_y):\n",
    "        dl_loc_x=dl_loc[0]+cell_width_um_dle+cell_width_um_capt_reg+grid_space_x*4\n",
    "        dl_loc_y=dl_loc[1]           \n",
    "        up = not up\n",
    "    dl_loc = (round(dl_loc_x, 5), round(dl_loc_y,5))\n",
    "\n",
    "# Create macro placement config file\n",
    "gen_macro_cfg(insts)"
   ]
  },
  {
   "cell_type": "code",
   "execution_count": null,
   "id": "5dc3354a-e317-4062-91dd-16000140d701",
   "metadata": {},
   "outputs": [],
   "source": []
  }
 ],
 "metadata": {
  "kernelspec": {
   "display_name": "Python 3 (ipykernel)",
   "language": "python",
   "name": "python3"
  },
  "language_info": {
   "codemirror_mode": {
    "name": "ipython",
    "version": 3
   },
   "file_extension": ".py",
   "mimetype": "text/x-python",
   "name": "python",
   "nbconvert_exporter": "python",
   "pygments_lexer": "ipython3",
   "version": "3.10.12"
  }
 },
 "nbformat": 4,
 "nbformat_minor": 5
}
